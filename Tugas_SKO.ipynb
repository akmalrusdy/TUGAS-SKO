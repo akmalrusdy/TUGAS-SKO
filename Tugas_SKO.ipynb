{
  "nbformat": 4,
  "nbformat_minor": 0,
  "metadata": {
    "colab": {
      "name": "Tugas SKO",
      "provenance": [],
      "authorship_tag": "ABX9TyNqbMeZ006Z+l2ExEBxMhGu",
      "include_colab_link": true
    },
    "kernelspec": {
      "name": "python3",
      "display_name": "Python 3"
    }
  },
  "cells": [
    {
      "cell_type": "markdown",
      "metadata": {
        "id": "view-in-github",
        "colab_type": "text"
      },
      "source": [
        "<a href=\"https://colab.research.google.com/github/akmalrusdy/TUGAS-SKO/blob/main/Tugas_SKO.ipynb\" target=\"_parent\"><img src=\"https://colab.research.google.com/assets/colab-badge.svg\" alt=\"Open In Colab\"/></a>"
      ]
    },
    {
      "cell_type": "code",
      "metadata": {
        "id": "KCPjBkOhqJsv"
      },
      "source": [
        "#IMPORT LIBRARIES\n",
        "import numpy as np\n",
        "import matplotlib.pyplot as plt"
      ],
      "execution_count": null,
      "outputs": []
    },
    {
      "cell_type": "code",
      "metadata": {
        "id": "DW5I1prIqerC"
      },
      "source": [
        "#DIKETAHUI\n",
        "phi = 3.14\n",
        "rs = np.arange(0,60) #jari jari daerah aktif\n",
        "bo = 2.65 # daya optik yang diradiasikan tegak lurus thdp permukaan emisi"
      ],
      "execution_count": null,
      "outputs": []
    },
    {
      "cell_type": "code",
      "metadata": {
        "id": "M5imF_MbqrSw"
      },
      "source": [
        "#RUMUS\n",
        "rumus = (phi**2) * (rs**2) * (bo) #Ps dalam watt\n",
        "Ps = (10 * rumus) + 30 #Ps dalam Dbm"
      ],
      "execution_count": null,
      "outputs": []
    },
    {
      "cell_type": "code",
      "metadata": {
        "colab": {
          "base_uri": "https://localhost:8080/",
          "height": 642
        },
        "id": "JWg_hE_8qfzI",
        "outputId": "5d0ad911-33b4-4874-b31c-9b747134964c"
      },
      "source": [
        "#PLOTTING GRAFIK\n",
        "\n",
        "plt.plot(rs,Ps)\n",
        "plt.title(\"Perbandingan antara Ps dengan rs\")\n",
        "plt.ylabel(\"Ps (Dbm)\")\n",
        "plt.xlabel(\"rs (cm)\")\n",
        "plt.show()\n",
        "print('Ps (Dbm)')\n",
        "print(Ps)\n",
        "print('rs (cm)')\n",
        "print(rs)"
      ],
      "execution_count": null,
      "outputs": [
        {
          "output_type": "display_data",
          "data": {
            "image/png": "[encoded data removed]",
            "text/plain": [
              "<Figure size 432x288 with 1 Axes>"
            ]
          },
          "metadata": {
            "tags": [],
            "needs_background": "light"
          }
        },
        {
          "output_type": "stream",
          "text": [
            "Ps (Dbm)\n",
            "[3.00000000e+01 2.91279400e+02 1.07511760e+03 2.38151460e+03\n",
            " 4.21047040e+03 6.56198500e+03 9.43605840e+03 1.28326906e+04\n",
            " 1.67518816e+04 2.11936314e+04 2.61579400e+04 3.16448074e+04\n",
            " 3.76542336e+04 4.41862186e+04 5.12407624e+04 5.88178650e+04\n",
            " 6.69175264e+04 7.55397466e+04 8.46845256e+04 9.43518634e+04\n",
            " 1.04541760e+05 1.15254215e+05 1.26489230e+05 1.38246803e+05\n",
            " 1.50526934e+05 1.63329625e+05 1.76654874e+05 1.90502683e+05\n",
            " 2.04873050e+05 2.19765975e+05 2.35181460e+05 2.51119503e+05\n",
            " 2.67580106e+05 2.84563267e+05 3.02068986e+05 3.20097265e+05\n",
            " 3.38648102e+05 3.57721499e+05 3.77317454e+05 3.97435967e+05\n",
            " 4.18077040e+05 4.39240671e+05 4.60926862e+05 4.83135611e+05\n",
            " 5.05866918e+05 5.29120785e+05 5.52897210e+05 5.77196195e+05\n",
            " 6.02017738e+05 6.27361839e+05 6.53228500e+05 6.79617719e+05\n",
            " 7.06529498e+05 7.33963835e+05 7.61920730e+05 7.90400185e+05\n",
            " 8.19402198e+05 8.48926771e+05 8.78973902e+05 9.09543591e+05]\n",
            "rs (cm)\n",
            "[ 0  1  2  3  4  5  6  7  8  9 10 11 12 13 14 15 16 17 18 19 20 21 22 23\n",
            " 24 25 26 27 28 29 30 31 32 33 34 35 36 37 38 39 40 41 42 43 44 45 46 47\n",
            " 48 49 50 51 52 53 54 55 56 57 58 59]\n"
          ],
          "name": "stdout"
        }
      ]
    }
  ]
}